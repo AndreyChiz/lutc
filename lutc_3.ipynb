{
 "cells": [
  {
   "cell_type": "code",
   "execution_count": 1,
   "id": "525f6e4d",
   "metadata": {},
   "outputs": [
    {
     "name": "stdout",
     "output_type": "stream",
     "text": [
      "[1, 2, 30, 4, 5]\n"
     ]
    }
   ],
   "source": [
    "#Изменение списка на месте\n",
    "my_list = [1, 2, 3, 4, 5]\n",
    "for i, item in enumerate(my_list):\n",
    "    if item == 3:\n",
    "        my_list[i] = 30\n",
    "print(my_list)"
   ]
  },
  {
   "cell_type": "code",
   "execution_count": null,
   "id": "954a5361",
   "metadata": {},
   "outputs": [],
   "source": [
    "#Через создание нового списка\n",
    "my_list = [1, 2, 3, 4, 5]\n",
    "for item in my_list[:]:  # Создаёт копию списка\n",
    "    if item == 3:\n",
    "        my_list.remove(item)\n"
   ]
  },
  {
   "cell_type": "code",
   "execution_count": 2,
   "id": "5e4a379e",
   "metadata": {},
   "outputs": [
    {
     "name": "stdout",
     "output_type": "stream",
     "text": [
      "[1, 2, 4, 5]\n"
     ]
    }
   ],
   "source": [
    "#Удаление элементов списка при итерации\n",
    "#- итерация в обратном порядке\n",
    "my_list = [1, 2, 3, 4, 5]\n",
    "for i in range(len(my_list) - 1, -1, -1):\n",
    "    if my_list[i] == 3:\n",
    "        del my_list[i]\n",
    "\n",
    "print(my_list)"
   ]
  },
  {
   "cell_type": "code",
   "execution_count": null,
   "id": "7d5f2e9b",
   "metadata": {},
   "outputs": [
    {
     "name": "stdout",
     "output_type": "stream",
     "text": [
      "<class 'list_iterator'>\n",
      "0\n",
      "1\n"
     ]
    }
   ],
   "source": [
    "#Итератор v/s итерируемый объект \n",
    "\n",
    "iterable_object_lst = list(range(10)) #Итерируемый объект\n",
    "\n",
    "lst_iterator = iter(iterable_object_lst) #Итератор\n",
    "\n",
    "print(type(lst_iterator))\n",
    "print(next(lst_iterator))\n",
    "print(next(lst_iterator))"
   ]
  },
  {
   "cell_type": "code",
   "execution_count": null,
   "id": "630066fb",
   "metadata": {},
   "outputs": [
    {
     "name": "stdout",
     "output_type": "stream",
     "text": [
      "import sys\n",
      "\n",
      "print(sys.path)\n",
      "x = 2\n",
      "print(x**32)\n",
      "\n"
     ]
    }
   ],
   "source": [
    "# Стр. 439\n",
    "# Протокол итерации\n",
    "# итераторы файловых объектов\n",
    "print(open('script2.py').read())"
   ]
  },
  {
   "cell_type": "code",
   "execution_count": 12,
   "id": "4b1b86ee",
   "metadata": {},
   "outputs": [
    {
     "data": {
      "text/plain": [
       "'import sys\\n\\nprint(sys.path)\\nx = 2\\nprint(x**32)\\n'"
      ]
     },
     "execution_count": 12,
     "metadata": {},
     "output_type": "execute_result"
    }
   ],
   "source": [
    "open('script2.py').read()"
   ]
  },
  {
   "cell_type": "code",
   "execution_count": 26,
   "id": "e8f0c550",
   "metadata": {},
   "outputs": [
    {
     "data": {
      "text/plain": [
       "'import sys\\n'"
      ]
     },
     "execution_count": 26,
     "metadata": {},
     "output_type": "execute_result"
    }
   ],
   "source": [
    "\n",
    "file = open('script2.py')\n",
    "\n",
    "file.readline()\n"
   ]
  },
  {
   "cell_type": "code",
   "execution_count": 27,
   "id": "5bdee5ca",
   "metadata": {},
   "outputs": [
    {
     "data": {
      "text/plain": [
       "'\\n'"
      ]
     },
     "execution_count": 27,
     "metadata": {},
     "output_type": "execute_result"
    }
   ],
   "source": [
    "file.readline()\n"
   ]
  },
  {
   "cell_type": "code",
   "execution_count": 28,
   "id": "d0c1d426",
   "metadata": {},
   "outputs": [
    {
     "data": {
      "text/plain": [
       "'x = 2\\n'"
      ]
     },
     "execution_count": 28,
     "metadata": {},
     "output_type": "execute_result"
    }
   ],
   "source": [
    "file.__next__()\n",
    "file.__next__()\n"
   ]
  },
  {
   "cell_type": "code",
   "execution_count": 5,
   "id": "5f9ee413",
   "metadata": {},
   "outputs": [
    {
     "name": "stdout",
     "output_type": "stream",
     "text": [
      "IMPORT SYS\n",
      "\n",
      "PRINT(SYS.PATH)\n",
      "X = 2\n",
      "PRINT(X**32)\n"
     ]
    }
   ],
   "source": [
    "# Вывод без доплллнительного переноса строки\n",
    "for line in open(\"script2.py\"):\n",
    "    print(line.upper(), end='')"
   ]
  },
  {
   "cell_type": "code",
   "execution_count": 29,
   "id": "378e7597",
   "metadata": {},
   "outputs": [
    {
     "name": "stdout",
     "output_type": "stream",
     "text": [
      "[1, 2, 3, 'a', 'b', 'c']\n",
      "[1, 2, 3, 'a', 'b', 'c']\n",
      "------------------------\n",
      "['1a', '1b', '1c', '2a', '2b', '2c', '3a', '3b', '3c']\n",
      "['1a', '1b', '1c', '2a', '2b', '2c', '3a', '3b', '3c']\n",
      "--------------------------\n",
      "['1a', '1b', '1c', '2a', '2b', '2c', '3a', '3b', '3c']\n",
      "['1a', '1b', '1c', '2a', '2b', '2c', '3a', '3b', '3c']\n",
      "--------------------------\n"
     ]
    }
   ],
   "source": [
    "# Списоковое включение по двум \n",
    "\n",
    "lst1 = [[1,2,3], [\"a\",\"b\",\"c\"]]\n",
    "lst2 = [[3,4,5,], ['z','x','c']]\n",
    "\n",
    "x = [y for x in lst1 for y in x]\n",
    "print(x)\n",
    "\n",
    "res = []\n",
    "for x in lst1:\n",
    "    for y in x:\n",
    "       res.append(y) \n",
    "print(res)\n",
    "# ---------------------------------\n",
    "print('------------------------')\n",
    "# ---------------------------------\n",
    "\n",
    "x = [x+y for x in \"123a\" if x.isdigit() for y in \"ab7c\" if y.isalpha()]\n",
    "print(x)\n",
    "\n",
    "res=[]\n",
    "for x in '123a':\n",
    "    if x.isdigit():\n",
    "        for y in 'ab7c':\n",
    "            if y.isalpha():\n",
    "                res.append(x+y)\n",
    "print(res)\n",
    "print('--------------------------')\n",
    "\n",
    "x = [x+y for x in \"123a\" for y in \"ab7c\" if x.isdigit() and y.isalpha()]\n",
    "print(x)\n",
    "\n",
    "res = []\n",
    "for x in '123a':\n",
    "    for y in 'ab7c':\n",
    "        if x.isdigit() and y.isalpha():\n",
    "            res.append(x + y)\n",
    "print(res)\n",
    "print(\"--------------------------\")\n"
   ]
  },
  {
   "cell_type": "code",
   "execution_count": 34,
   "id": "698fc3c5",
   "metadata": {},
   "outputs": [
    {
     "name": "stdout",
     "output_type": "stream",
     "text": [
      "['\\n', 'import sys\\n', 'print(sys.path)\\n', 'print(x**32)\\n', 'x = 2\\n']\n"
     ]
    },
    {
     "data": {
      "text/plain": [
       "['a', 'b', 'c']"
      ]
     },
     "execution_count": 34,
     "metadata": {},
     "output_type": "execute_result"
    }
   ],
   "source": [
    "print(sorted(open(\"script2.py\")))\n",
    "sorted('cba')"
   ]
  },
  {
   "cell_type": "code",
   "execution_count": 36,
   "id": "b36d8a17",
   "metadata": {},
   "outputs": [
    {
     "name": "stdout",
     "output_type": "stream",
     "text": [
      "import sys\n",
      "\n",
      "['\\n', 'print(sys.path)\\n', 'x = 2\\n', 'print(x**32)\\n']\n"
     ]
    }
   ],
   "source": [
    "a, *b = open(\"script2.py\")\n",
    "print(a)\n",
    "print(b)"
   ]
  },
  {
   "cell_type": "code",
   "execution_count": 38,
   "id": "eebcdadd",
   "metadata": {},
   "outputs": [
    {
     "name": "stdout",
     "output_type": "stream",
     "text": [
      "1 2 (3,)\n"
     ]
    }
   ],
   "source": [
    "# Распаковка в аргументы фукнкции\n",
    "lst = [1,2,3]\n",
    "\n",
    "def foo(a,b,c):\n",
    "    print(a,b,c)\n",
    "\n",
    "foo(*lst)"
   ]
  },
  {
   "cell_type": "code",
   "execution_count": 44,
   "id": "5ed638ea",
   "metadata": {},
   "outputs": [
    {
     "name": "stdout",
     "output_type": "stream",
     "text": [
      "3\n"
     ]
    }
   ],
   "source": [
    "x = range(10)\n",
    "print(x[3])\n",
    "\n",
    "y = iter(x)\n"
   ]
  },
  {
   "cell_type": "code",
   "execution_count": 47,
   "id": "84077470",
   "metadata": {},
   "outputs": [
    {
     "name": "stdout",
     "output_type": "stream",
     "text": [
      "i1=<zip object at 0x75df27589640>\n",
      "i2=<zip object at 0x75df27589640>\n",
      "(1, 10)\n",
      "(2, 11)\n",
      "(3, 12)\n"
     ]
    }
   ],
   "source": [
    "# итератор zip() не создает несколько итераторов\n",
    "z = zip((1,2,3), (10,11,12))\n",
    "i1 = iter(z)\n",
    "i2 = iter(z)\n",
    "print(f'{i1=}')\n",
    "print(f'{i2=}')\n",
    "print(next(i1))\n",
    "print(next(i1))\n",
    "print(next(i2))\n"
   ]
  },
  {
   "cell_type": "code",
   "execution_count": 52,
   "id": "0660225d",
   "metadata": {},
   "outputs": [
    {
     "name": "stdout",
     "output_type": "stream",
     "text": [
      "i1=<range_iterator object at 0x75df3c45a910>\n",
      "i2=<range_iterator object at 0x75df4c3f26d0>\n",
      "0\n",
      "1\n",
      "0\n",
      "2\n",
      "1\n"
     ]
    }
   ],
   "source": [
    "# объект range() создает множество итераторов\n",
    "z = range(10)\n",
    "i1 = iter(z)\n",
    "i2 = iter(z)\n",
    "print(f'{i1=}\\n{i2=}')\n",
    "\n",
    "print(next(i1))\n",
    "print(next(i1))\n",
    "print(next(i2))\n",
    "print(next(i1))\n",
    "print(next(i2))\n"
   ]
  },
  {
   "cell_type": "code",
   "execution_count": 54,
   "id": "abb414de",
   "metadata": {},
   "outputs": [
    {
     "name": "stdout",
     "output_type": "stream",
     "text": [
      "i1=<map object at 0x75df3c45a260>\n",
      "i2=<map object at 0x75df3c45a260>\n",
      "1\n",
      "2\n",
      "3\n"
     ]
    }
   ],
   "source": [
    "# map() возвращает единственый итератор \n",
    "m = map(abs, (-1,-2,3))\n",
    "\n",
    "i1 = iter(m)\n",
    "i2 = iter(m)\n",
    "print(f\"{i1=}\\n{i2=}\")\n",
    "\n",
    "print(next(i1))\n",
    "print(next(i1))\n",
    "print(next(i2))\n"
   ]
  },
  {
   "cell_type": "code",
   "execution_count": 55,
   "id": "081df08c",
   "metadata": {},
   "outputs": [
    {
     "name": "stdout",
     "output_type": "stream",
     "text": [
      "<class 'list'>\n"
     ]
    }
   ],
   "source": [
    "# иераторы словарей keys(), values(), items()\n",
    "\n",
    "dct = dict(z=1, b=2, c=3)\n",
    "sdct = sorted(dct)\n",
    "print(type(sdct))\n",
    "     "
   ]
  },
  {
   "cell_type": "code",
   "execution_count": 60,
   "id": "a2de0e3a",
   "metadata": {},
   "outputs": [
    {
     "name": "stdout",
     "output_type": "stream",
     "text": [
      "<map object at 0x75df3c310e20>\n"
     ]
    }
   ],
   "source": [
    "s = 'abc'\n",
    "\n",
    "lst = map(ord, s)\n"
   ]
  },
  {
   "cell_type": "code",
   "execution_count": 64,
   "id": "db64f261",
   "metadata": {},
   "outputs": [
    {
     "name": "stdout",
     "output_type": "stream",
     "text": [
      "{'z': 2, 'a': 4, 'some': 8}\n",
      "a: 4\n",
      "some: 8\n",
      "z: 2\n",
      "{'a': 4, 'some': 8, 'z': 2}\n",
      "{'a': 4, 'some': 8, 'z': 2}\n"
     ]
    }
   ],
   "source": [
    "#Сортированный словарь\n",
    "\n",
    "dct = dict(z=2, a=4, some=8)\n",
    "print(dct)\n",
    "for i in sorted(dct):\n",
    "    print(f'{i}: {dct[i]}')\n",
    "\n",
    "new_dct = {key: dct[key] for key in sorted(dct)}\n",
    "print(new_dct) \n",
    "\n",
    "new_dict = dict(sorted(dct.items()))\n",
    "print(new_dct)"
   ]
  },
  {
   "cell_type": "code",
   "execution_count": 76,
   "id": "578eed36",
   "metadata": {},
   "outputs": [
    {
     "name": "stdout",
     "output_type": "stream",
     "text": [
      "not found\n"
     ]
    }
   ],
   "source": [
    "L = [1, 2, 4, 8, 16, 64]\n",
    "x = 5\n",
    "\n",
    "# for index, value in enumerate(L):\n",
    "#     target = 2**x \n",
    "#     if target in  L:\n",
    "#         print(f\"found {value} in index {index}\") if value == target else print(\n",
    "#             f\"{target} not found\"\n",
    "#         )\n",
    "   \n",
    "\n",
    "# logic = map(lambda x: f'found on index {i[0]}' if x[1] == 2**5 else None , enumerate(L))\n",
    "    \n",
    "try:\n",
    "    res = L.index(2**5)\n",
    "except ValueError: \n",
    "    print('not found')\n",
    "else:\n",
    "    print(f'found in index {res}')\n"
   ]
  }
 ],
 "metadata": {
  "kernelspec": {
   "display_name": ".venv",
   "language": "python",
   "name": "python3"
  },
  "language_info": {
   "codemirror_mode": {
    "name": "ipython",
    "version": 3
   },
   "file_extension": ".py",
   "mimetype": "text/x-python",
   "name": "python",
   "nbconvert_exporter": "python",
   "pygments_lexer": "ipython3",
   "version": "3.13.2"
  }
 },
 "nbformat": 4,
 "nbformat_minor": 5
}
