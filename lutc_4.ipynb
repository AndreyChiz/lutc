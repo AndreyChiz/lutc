{
 "cells": [
  {
   "cell_type": "code",
   "execution_count": null,
   "id": "3316520e",
   "metadata": {},
   "outputs": [],
   "source": [
    "# Функция такой же объект как и остальные\n",
    "# Можно добавить атрибут\n",
    "def some_foo(a):\n",
    "    return 'some_foo done'\n",
    "\n",
    "some_foo.ise = 'function my'\n",
    "\n",
    "print(some_foo.ise)"
   ]
  },
  {
   "cell_type": "code",
   "execution_count": null,
   "metadata": {},
   "outputs": [],
   "source": [
    "# Области видимости\n",
    "x = 'global x'\n",
    "\n",
    "def outer():\n",
    "    x = 'outer x'\n",
    "    def middle():\n",
    "        print(x)\n"
   ]
  },
  {
   "cell_type": "code",
   "execution_count": null,
   "id": "fdcfbb43",
   "metadata": {},
   "outputs": [],
   "source": [
    "# nonlocal не создает переменную в объемлящей функции, а global создает\n",
    "def f():  \n",
    "    global x, y \n",
    "\n",
    "f()\n",
    "\n",
    "def f1():\n",
    "    def f2():\n",
    "        nonlocal x # Ошибка, т.к. x не объявлена в f1 и nonlocal не создаст автоматически\n",
    "        x = 20\n",
    "    f2()\n",
    "    print(x)\n",
    "\n",
    "f1()"
   ]
  },
  {
   "cell_type": "code",
   "execution_count": null,
   "id": "3933783e",
   "metadata": {},
   "outputs": [],
   "source": [
    "# Замыкание\n",
    "def maker (N) :\n",
    "    def action(X) :\n",
    "      return X**N  \n",
    "    return action\n",
    "\n",
    "first_macker = maker(2) # тут задали состояние 2 и вложенная функция запомнила его\n",
    "print(first_macker(2)) #тут использовали это состояние\n",
    "\n",
    "second_maker = maker(3)\n",
    "print(second_maker(2))"
   ]
  },
  {
   "cell_type": "code",
   "execution_count": null,
   "id": "0a9bd231",
   "metadata": {},
   "outputs": [],
   "source": [
    "def maker(N) :\n",
    "    return lambda X: X ** N\n",
    "\n",
    "first_macker = maker(2) # тут задали состояние 2 и вложенная функция запомнила его\n",
    "print(first_macker(2)) #тут использовали это состояние\n",
    "\n",
    "second_maker = maker(3)\n",
    "print(second_maker(2))"
   ]
  },
  {
   "cell_type": "code",
   "execution_count": null,
   "id": "78fdcd6a",
   "metadata": {},
   "outputs": [],
   "source": [
    "def fl() :\n",
    "    х = 88\n",
    "    def f2 (х=х):\n",
    "        print(х)\n",
    "    f2()\n",
    "fl()"
   ]
  },
  {
   "cell_type": "code",
   "execution_count": null,
   "id": "5b948dd5",
   "metadata": {},
   "outputs": [],
   "source": [
    "def macker():\n",
    "    X = 88\n",
    "    return action(X)\n",
    "\n",
    "def action(X):\n",
    "    print(X)\n",
    "\n",
    "macker()"
   ]
  },
  {
   "cell_type": "code",
   "execution_count": null,
   "id": "b0749783",
   "metadata": {},
   "outputs": [],
   "source": [
    "# Замыкания и lambda\n",
    "\n",
    "def func():\n",
    "    x = 4 \n",
    "    action = lambda n: x**n\n",
    "    return action\n",
    "\n",
    "x = func()\n",
    "print(x(2))\n"
   ]
  },
  {
   "cell_type": "code",
   "execution_count": null,
   "id": "6466d91a",
   "metadata": {},
   "outputs": [],
   "source": [
    "# Создание списка lambda\n",
    "def f():\n",
    "    return [lambda: i for i in range(3)]\n",
    "\n",
    "funcs = f()\n",
    "print([fn() for fn in funcs])  # [2, 2, 2]\n",
    "\n",
    "# Создание списка лямбд.\n",
    "# Внутри f() мы строим список из трёх лямбд:\n",
    "#     lambda: i при i = 0\n",
    "#     lambda: i при i = 1\n",
    "#     lambda: i при i = 2\n",
    "# Замыкание захватывает переменную, а не её текущее значение.\n",
    "# Все три лямбды «ссылаются» на ОДНУ и ту же переменную i из окружения функции f,\n",
    "# а не на три отдельных «снимка» её значения.\n",
    "# После завершения цикла i равно 2\n",
    "# Когда список лямбд уже собран и f() отработала, значение \n",
    "# переменной i в её локальной области стало 2 (последний пробег цикла).\n",
    "# Вызов каждой лямбды возвращает текущее значение i.\n",
    "# При fn() Python смотрит на ту единственную i — и это всегда 2."
   ]
  },
  {
   "cell_type": "code",
   "execution_count": null,
   "id": "a88a9d44",
   "metadata": {},
   "outputs": [],
   "source": [
    "\n",
    "def f():\n",
    "    return [lambda i=i: i for i in range(3)]\n",
    "    #         ↑— здесь мы делаем i аргументом со значением по умолчанию\n",
    "funcs = f()\n",
    "print([fn() for fn in funcs])  # [0, 1, 2]\n"
   ]
  },
  {
   "cell_type": "code",
   "execution_count": null,
   "id": "36b9c044",
   "metadata": {},
   "outputs": [],
   "source": [
    "\n",
    "# пример замыкания\n",
    "def outer():\n",
    "    x = 'something0'\n",
    "    def inner():\n",
    "        return x\n",
    "    return inner\n",
    "\n",
    "clos = outer()\n",
    "print(clos())"
   ]
  },
  {
   "cell_type": "code",
   "execution_count": null,
   "id": "928e18d0",
   "metadata": {},
   "outputs": [],
   "source": [
    "def some_outer():\n",
    "    hidden_var  = f'i am var in {some_outer.__name__}'\n",
    "    def some_inner():\n",
    "        print(f'i am {some_inner.__name__}')\n",
    "        some_inner.public_var = hidden_var # запоминает переменную из enclosure\n",
    "    return some_inner\n",
    "    \n",
    "\n",
    "clos = some_outer()\n",
    "clos() \n",
    "x = clos.public_var  # выводит сохраненную из внешней области\n",
    "\n",
    "print(x)"
   ]
  },
  {
   "cell_type": "markdown",
   "id": "00b46954",
   "metadata": {},
   "source": [
    "Глава 20\n",
    "Включения и генераторы"
   ]
  },
  {
   "cell_type": "code",
   "execution_count": null,
   "id": "a5b4e12a",
   "metadata": {},
   "outputs": [],
   "source": [
    "# создание списка\n",
    "ord('s')\n",
    "\n",
    "\n",
    "### аналог основанный на for (когда надо дополнительно управлять процессом)\n",
    "some_str = 'something'\n",
    "res = []\n",
    "for i in some_str:\n",
    "    res.append(ord(i)+9999)\n",
    "print(f'я из варианта реализации через for{res=} максимально гибкого но медленного потому что испольняюсь через байт код \\n')\n",
    "\n",
    "\n",
    "### аналог через map (когда не надо управлять процессом)\n",
    "res = list(map(ord, some_str))  # -> суть mар() - отображает функцию на итерируемый объект\n",
    "print(f'я из выражения с map {res =}, могу применять только функцию к элементу итерируемого объекта \\n \\n')\n",
    "\n",
    "\n",
    "###\n",
    "res = [ord(i)+999 for i in some_str if int(ord(i))%2 == 0]\n",
    "print(f'я из спсикового включения {res} с фильтром только чётных')\n"
   ]
  },
  {
   "cell_type": "code",
   "execution_count": 11,
   "id": "87c7a5be",
   "metadata": {},
   "outputs": [
    {
     "name": "stdout",
     "output_type": "stream",
     "text": [
      "столбец table=[2, 5, 8]\n",
      "столбец table=[2, 5, 8]\n",
      "диагональ diag=[1, 5, 9]\n",
      "диагональ diag=[3, 5, 7]\n",
      "изменили по местуL=[[11, 12, 13], [14, 15, 16]]\n",
      "[11, 12, 13, 14, 15, 16, 17, 18, 19]\n",
      "[11, 12, 13, 14, 15, 16, 17, 18, 19]\n",
      "[[11, 12, 13], [14, 15, 16], [17, 18, 19]]\n",
      "[[11, 12, 13], [14, 15, 16], [17, 18, 19]]\n"
     ]
    }
   ],
   "source": [
    "# 604 Матрицы\n",
    "M = [\n",
    "    [1, 2, 3],\n",
    "    [4, 5, 6],\n",
    "    [7, 8, 9],\n",
    "]\n",
    "N = [\n",
    "    [2, 2, 2],\n",
    "    [3, 3, 3],\n",
    "    [4, 4, 4],\n",
    "]\n",
    "# столбец\n",
    "table = [row[1] for row in M]  # row - вложенный список\n",
    "print(f\"столбец {table=}\")\n",
    "table = [M[row][1] for row in (0, 1, 2)]\n",
    "print(f\"столбец {table=}\")\n",
    "\n",
    "# диагональ\n",
    "diag = [M[i][i] for i in range(len(M))]\n",
    "print(f'диагональ {diag=}')\n",
    "diag = [M[i][len(M)-1-i] for i in range(len(M))]\n",
    "print(f\"диагональ {diag=}\")\n",
    "\n",
    "# полный проход мсизменением по месту\n",
    "L = [[1,2,3], [4,5,6]]\n",
    "for i in range(len(L)):\n",
    "    for j in range(len(L[i])):\n",
    "        L[i][j] +=10\n",
    "\n",
    "print(f'изменили по месту{L=}')\n",
    "\n",
    "X = [column + 10 for row in M for column in row ]\n",
    "print(X)\n",
    "#аналог \n",
    "new_lst =[]\n",
    "for row in M:\n",
    "    for column in row:\n",
    "        new_lst.append(column+10)\n",
    "print(new_lst)\n",
    "\n",
    "X= [[i+10 for i in row] for row in M]\n",
    "print(X)\n",
    "\n",
    "X=[]\n",
    "for row in M:\n",
    "    tmp = []\n",
    "    for i in row:\n",
    "        tmp.append(i+10)\n",
    "    X.append(tmp)\n",
    "print(X)"
   ]
  },
  {
   "cell_type": "code",
   "execution_count": 22,
   "id": "af2e0118",
   "metadata": {},
   "outputs": [
    {
     "name": "stdout",
     "output_type": "stream",
     "text": [
      "35\n",
      "35\n"
     ]
    }
   ],
   "source": [
    "listoftuple = [('bob', 35, 'mgr', 'asd', 1), ('sue', 15, 'dev', 'adw')]\n",
    "\n",
    "x = max(age for (name, age, *_) in listoftuple)\n",
    "print(x)\n",
    "\n",
    "x =max(i[1] for i in listoftuple)\n",
    "print(x)"
   ]
  },
  {
   "cell_type": "code",
   "execution_count": 23,
   "id": "846483b1",
   "metadata": {},
   "outputs": [
    {
     "name": "stdout",
     "output_type": "stream",
     "text": [
      "0\n",
      "1\n",
      "2\n",
      "0\n"
     ]
    }
   ],
   "source": [
    "def some_gen():\n",
    "    for i in range(3):\n",
    "        yield i\n",
    "\n",
    "\n",
    "ex = some_gen()\n",
    "ex2 = some_gen()\n",
    "\n",
    "print(next(ex))\n",
    "print(next(ex))\n",
    "print(next(ex))\n",
    "print(next(ex2))\n"
   ]
  }
 ],
 "metadata": {
  "kernelspec": {
   "display_name": ".venv",
   "language": "python",
   "name": "python3"
  },
  "language_info": {
   "codemirror_mode": {
    "name": "ipython",
    "version": 3
   },
   "file_extension": ".py",
   "mimetype": "text/x-python",
   "name": "python",
   "nbconvert_exporter": "python",
   "pygments_lexer": "ipython3",
   "version": "3.13.3"
  }
 },
 "nbformat": 4,
 "nbformat_minor": 5
}
