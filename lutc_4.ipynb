{
 "cells": [
  {
   "cell_type": "code",
   "execution_count": null,
   "id": "3316520e",
   "metadata": {},
   "outputs": [
    {
     "name": "stdout",
     "output_type": "stream",
     "text": [
      "function my\n"
     ]
    }
   ],
   "source": [
    "# Функция такой же объект как и остальные\n",
    "# Можно добавить атрибут\n",
    "def some_foo(a):\n",
    "    return 'some_foo done'\n",
    "\n",
    "some_foo.ise = 'function my'\n",
    "\n",
    "print(some_foo.ise)"
   ]
  },
  {
   "cell_type": "code",
   "execution_count": null,
   "metadata": {},
   "outputs": [],
   "source": [
    "# Области видимости\n",
    "x = 'global x'\n",
    "\n",
    "def outer():\n",
    "    x = 'outer x'\n",
    "    def middle():\n",
    "        print(x)\n"
   ]
  },
  {
   "cell_type": "code",
   "execution_count": null,
   "id": "fdcfbb43",
   "metadata": {},
   "outputs": [
    {
     "ename": "SyntaxError",
     "evalue": "no binding for nonlocal 'x' found (3649388008.py, line 8)",
     "output_type": "error",
     "traceback": [
      "  \u001b[36mCell\u001b[39m\u001b[36m \u001b[39m\u001b[32mIn[41]\u001b[39m\u001b[32m, line 8\u001b[39m\n\u001b[31m    \u001b[39m\u001b[31mnonlocal x\u001b[39m\n    ^\n\u001b[31mSyntaxError\u001b[39m\u001b[31m:\u001b[39m no binding for nonlocal 'x' found\n"
     ]
    }
   ],
   "source": [
    "# nonlocal не создает переменную в объемлящей функции, а global создает\n",
    "def f():  \n",
    "    global x, y \n",
    "\n",
    "f()\n",
    "\n",
    "def f1():\n",
    "    def f2():\n",
    "        nonlocal x # Ошибка, т.к. x не объявлена в f1 и nonlocal не создаст автоматически\n",
    "        x = 20\n",
    "    f2()\n",
    "    print(x)\n",
    "\n",
    "f1()"
   ]
  },
  {
   "cell_type": "code",
   "execution_count": null,
   "id": "3933783e",
   "metadata": {},
   "outputs": [
    {
     "name": "stdout",
     "output_type": "stream",
     "text": [
      "4\n",
      "8\n"
     ]
    }
   ],
   "source": [
    "# Замыкание\n",
    "def maker (N) :\n",
    "    def action(X) :\n",
    "      return X**N  \n",
    "    return action\n",
    "\n",
    "first_macker = maker(2) # тут задали состояние 2 и вложенная функция запомнила его\n",
    "print(first_macker(2)) #тут использовали это состояние\n",
    "\n",
    "second_maker = maker(3)\n",
    "print(second_maker(2))"
   ]
  },
  {
   "cell_type": "code",
   "execution_count": 33,
   "id": "0a9bd231",
   "metadata": {},
   "outputs": [
    {
     "name": "stdout",
     "output_type": "stream",
     "text": [
      "4\n",
      "8\n"
     ]
    }
   ],
   "source": [
    "def maker(N) :\n",
    "    return lambda X: X ** N\n",
    "\n",
    "first_macker = maker(2) # тут задали состояние 2 и вложенная функция запомнила его\n",
    "print(first_macker(2)) #тут использовали это состояние\n",
    "\n",
    "second_maker = maker(3)\n",
    "print(second_maker(2))"
   ]
  },
  {
   "cell_type": "code",
   "execution_count": null,
   "id": "78fdcd6a",
   "metadata": {},
   "outputs": [
    {
     "name": "stdout",
     "output_type": "stream",
     "text": [
      "88\n"
     ]
    }
   ],
   "source": [
    "def fl() :\n",
    "    х = 88\n",
    "    def f2 (х=х):\n",
    "        print(х)\n",
    "    f2()\n",
    "fl()"
   ]
  },
  {
   "cell_type": "code",
   "execution_count": 34,
   "id": "5b948dd5",
   "metadata": {},
   "outputs": [
    {
     "name": "stdout",
     "output_type": "stream",
     "text": [
      "88\n"
     ]
    }
   ],
   "source": [
    "def macker():\n",
    "    X = 88\n",
    "    return action(X)\n",
    "\n",
    "def action(X):\n",
    "    print(X)\n",
    "\n",
    "macker()"
   ]
  },
  {
   "cell_type": "code",
   "execution_count": 37,
   "id": "b0749783",
   "metadata": {},
   "outputs": [
    {
     "name": "stdout",
     "output_type": "stream",
     "text": [
      "16\n"
     ]
    }
   ],
   "source": [
    "# Замыкания и lambda\n",
    "\n",
    "def func():\n",
    "    x = 4 \n",
    "    action = lambda n: x**n\n",
    "    return action\n",
    "\n",
    "x = func()\n",
    "print(x(2))\n"
   ]
  },
  {
   "cell_type": "code",
   "execution_count": null,
   "id": "6466d91a",
   "metadata": {},
   "outputs": [
    {
     "name": "stdout",
     "output_type": "stream",
     "text": [
      "[2, 2, 2]\n"
     ]
    }
   ],
   "source": [
    "# Создание списка lambda\n",
    "def f():\n",
    "    return [lambda: i for i in range(3)]\n",
    "\n",
    "funcs = f()\n",
    "print([fn() for fn in funcs])  # [2, 2, 2]\n",
    "\n",
    "# Создание списка лямбд.\n",
    "# Внутри f() мы строим список из трёх лямбд:\n",
    "#     lambda: i при i = 0\n",
    "#     lambda: i при i = 1\n",
    "#     lambda: i при i = 2\n",
    "# Замыкание захватывает переменную, а не её текущее значение.\n",
    "# Все три лямбды «ссылаются» на ОДНУ и ту же переменную i из окружения функции f,\n",
    "# а не на три отдельных «снимка» её значения.\n",
    "# После завершения цикла i равно 2\n",
    "# Когда список лямбд уже собран и f() отработала, значение \n",
    "# переменной i в её локальной области стало 2 (последний пробег цикла).\n",
    "# Вызов каждой лямбды возвращает текущее значение i.\n",
    "# При fn() Python смотрит на ту единственную i — и это всегда 2."
   ]
  },
  {
   "cell_type": "code",
   "execution_count": null,
   "id": "a88a9d44",
   "metadata": {},
   "outputs": [
    {
     "name": "stdout",
     "output_type": "stream",
     "text": [
      "[0, 1, 2]\n"
     ]
    }
   ],
   "source": [
    "\n",
    "def f():\n",
    "    return [lambda i=i: i for i in range(3)]\n",
    "    #         ↑— здесь мы делаем i аргументом со значением по умолчанию\n",
    "funcs = f()\n",
    "print([fn() for fn in funcs])  # [0, 1, 2]\n"
   ]
  }
 ],
 "metadata": {
  "kernelspec": {
   "display_name": ".venv",
   "language": "python",
   "name": "python3"
  },
  "language_info": {
   "codemirror_mode": {
    "name": "ipython",
    "version": 3
   },
   "file_extension": ".py",
   "mimetype": "text/x-python",
   "name": "python",
   "nbconvert_exporter": "python",
   "pygments_lexer": "ipython3",
   "version": "3.13.3"
  }
 },
 "nbformat": 4,
 "nbformat_minor": 5
}
