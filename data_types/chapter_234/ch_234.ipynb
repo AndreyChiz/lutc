{
 "cells": [
  {
   "cell_type": "code",
   "execution_count": 10,
   "id": "7aab395a",
   "metadata": {},
   "outputs": [
    {
     "name": "stdout",
     "output_type": "stream",
     "text": [
      "10\n"
     ]
    }
   ],
   "source": [
    "x = \"0123456789\"\n",
    "print(len(x))"
   ]
  },
  {
   "cell_type": "code",
   "execution_count": 18,
   "id": "c8d216f7",
   "metadata": {},
   "outputs": [
    {
     "name": "stdout",
     "output_type": "stream",
     "text": [
      "543210\n"
     ]
    }
   ],
   "source": [
    "print(x[5::-1])"
   ]
  },
  {
   "cell_type": "code",
   "execution_count": 20,
   "id": "17b94abb",
   "metadata": {},
   "outputs": [
    {
     "name": "stdout",
     "output_type": "stream",
     "text": [
      "876543210\n"
     ]
    }
   ],
   "source": [
    "print(x[-2::-1])"
   ]
  },
  {
   "cell_type": "code",
   "execution_count": 30,
   "id": "b2edc3f9",
   "metadata": {},
   "outputs": [
    {
     "name": "stdout",
     "output_type": "stream",
     "text": [
      "876543210\n",
      "['hello', 'world']\n"
     ]
    }
   ],
   "source": [
    "sl = slice(-2,None,-1)\n",
    "print(x[sl])\n",
    "\n",
    "z = \"hello world\"\n",
    "c = z.split(' ',)\n",
    "print(c)"
   ]
  }
 ],
 "metadata": {
  "kernelspec": {
   "display_name": ".venv",
   "language": "python",
   "name": "python3"
  },
  "language_info": {
   "codemirror_mode": {
    "name": "ipython",
    "version": 3
   },
   "file_extension": ".py",
   "mimetype": "text/x-python",
   "name": "python",
   "nbconvert_exporter": "python",
   "pygments_lexer": "ipython3",
   "version": "3.13.2"
  }
 },
 "nbformat": 4,
 "nbformat_minor": 5
}
