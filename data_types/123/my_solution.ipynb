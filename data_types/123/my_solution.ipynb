{
 "cells": [
  {
   "cell_type": "code",
   "execution_count": null,
   "id": "d4fb7454",
   "metadata": {},
   "outputs": [],
   "source": [
    "# 1. Создать массив где составные числа будут true а  простые false\n",
    "# 2. Так как мы знаем что 0 и 1 не простые числа, то в массиве будет false\n",
    "# на этих позичиях.\n",
    "# 3. Начнем обход с элемента 2 до элемента n+1 так как массив начинается с 0\n",
    "# 4. false - составное, true простое\n",
    "\n",
    "\n",
    "def create_wrap_list(num):\n",
    "    w_list = [True] * (num + 1)\n",
    "    w_list[:1] = [False, False]\n",
    "    return w_list\n",
    "\n",
    "\n",
    "def get_simple_digits(w_list):\n",
    "    for i in range(2, len(w_list)):\n",
    "        if w_list[i]:\n",
    "            for i in range(i*i, len(w_list), i):\n",
    "                w_list[i] = False\n",
    "    print(w_list)\n",
    "        # если w_list[2] true то\n",
    "        # записываем элемент 2*2, false если он не больше len(wlist)\n",
    "        # записываем элемент 2*2*2 false\n",
    "    \n",
    "\n",
    "\n",
    "w_list = create_wrap_list(10)\n",
    "get_simple_digits(w_list=w_list)\n"
   ]
  },
  {
   "cell_type": "code",
   "execution_count": null,
   "metadata": {},
   "outputs": [],
   "source": []
  }
 ],
 "metadata": {
  "kernelspec": {
   "display_name": ".venv",
   "language": "python",
   "name": "python3"
  },
  "language_info": {
   "codemirror_mode": {
    "name": "ipython",
    "version": 3
   },
   "file_extension": ".py",
   "mimetype": "text/x-python",
   "name": "python",
   "nbconvert_exporter": "python",
   "pygments_lexer": "ipython3",
   "version": "3.13.2"
  }
 },
 "nbformat": 4,
 "nbformat_minor": 5
}
