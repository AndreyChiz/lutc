{
 "cells": [
  {
   "cell_type": "code",
   "execution_count": 13,
   "id": "6de3f443",
   "metadata": {},
   "outputs": [],
   "source": [
    "n: int = 4"
   ]
  },
  {
   "cell_type": "code",
   "execution_count": 14,
   "id": "00463233",
   "metadata": {},
   "outputs": [
    {
     "name": "stdout",
     "output_type": "stream",
     "text": [
      "[True, True, True, True, True]\n"
     ]
    }
   ],
   "source": [
    "\n",
    "is_prime = [True] * (n + 1)\n",
    "print(is_prime)\n",
    "\n",
    "#    1   |  2  |  3  |  4  |  5   |     - порядковый номер элемента\n",
    "#   (0)  |     |     | (n) | (n+1)|     - выражение\n",
    "#    0   |  1  |  2  |  3  |  4   |     - Число\n",
    "#   [True, True, True, True, True]      - Татус (True=Простое | False=Составное)\n",
    "\n",
    "#   Изначально мы предполагаем что все числа списка Простые\n",
    "    "
   ]
  },
  {
   "cell_type": "code",
   "execution_count": 15,
   "id": "1326f553",
   "metadata": {},
   "outputs": [],
   "source": [
    "is_prime[0] = is_prime[1] = False  \n",
    "# числа 0 и 1 не считаются простыми по умолчанию\n",
    "# назначаю значения False элементам с индксами 0 и 1\n",
    "#  [False, False, True, True, True]\n"
   ]
  },
  {
   "cell_type": "code",
   "execution_count": 16,
   "id": "b9bf1208",
   "metadata": {},
   "outputs": [
    {
     "name": "stdout",
     "output_type": "stream",
     "text": [
      "[2, 3]\n"
     ]
    }
   ],
   "source": [
    "primes = []\n",
    "# Список для найденных простых чисел на которые делится искомое\n",
    "\n",
    "for i in range(2, n + 1): # (2, 3, 4)\n",
    "# для каждого элемента из последовательности натуральных числел\n",
    "# начиная с позиции 2 \n",
    "\n",
    "#                  !=>   =>   n+1\n",
    "#    0      1      2     3     4 \n",
    "# [False, False, True, True, True] \n",
    "\n",
    "\n",
    "    if is_prime[i]: \n",
    "#   Если элемент масиива c индексом i True\n",
    "# \n",
    "#                   !\n",
    "#   [False, False, True, True, True]\n",
    "\n",
    "        primes.append(i) \n",
    "#       добавляем индекс этого элемента в массив чисел простых делитетлей\n",
    "\n",
    "\n",
    "        for j in range(i * i, n + 1, i):  \n",
    "            is_prime[j] = False\n",
    "            # помечаем начальном списке все последующие числа которые делятся на найденное как составные (False)\n",
    "            # - ОТ - i*i - так мы начнем помечать числа начиная\n",
    "            #   со следующего числа делящегося на i.\n",
    "            # - ДО - n+1 - до конца массива\n",
    "            # - ШАГ - i - с шагом равным i что обеспечит нам\n",
    "            #   пометку всех чисел делящихся без остатка на i\n",
    "            #        \n",
    "            #   (i*i) - начальное значение\n",
    "            #    2*2 = 4 первое помеченное число после найденного\n",
    "\n",
    "            #   (i*i)(шаг i)    \n",
    "            #    2*2   +2   = 6 - последующее помеченное число после найденного\n",
    "            #    \n",
    "            #   (i*i)(шаг i)(шаг i)\n",
    "            #    2*2   +2     +2    = 8 - последующее помеченное число после найденного\n",
    "\n",
    "\n",
    "            \n",
    "\n",
    "print(primes)\n"
   ]
  },
  {
   "cell_type": "code",
   "execution_count": null,
   "id": "9ceed26e",
   "metadata": {},
   "outputs": [],
   "source": [
    "def sieve(n):\n",
    "\n",
    "\n",
    "\n",
    "\n",
    "    \n",
    "    return primes\n"
   ]
  },
  {
   "cell_type": "code",
   "execution_count": null,
   "id": "aa6565c4",
   "metadata": {},
   "outputs": [],
   "source": [
    "def decomp(n):\n",
    "    # Функция для нахождения всех простых чисел до n (Решето Эратосфена)\n",
    "    \n",
    "\n",
    "    primes = sieve(n)\n",
    "    factors = []\n",
    "\n",
    "    # Для каждого простого числа считаем степень в разложении n!\n",
    "    for prime in primes:\n",
    "        exponent = 0\n",
    "        power = prime\n",
    "        while power <= n:\n",
    "            exponent += n // power\n",
    "            power *= prime\n",
    "\n",
    "        if exponent > 0:\n",
    "            if exponent == 1:\n",
    "                factors.append(f\"{prime}\")\n",
    "            else:\n",
    "                factors.append(f\"{prime}^{exponent}\")\n",
    "\n",
    "    # Возвращаем строку с множителями, разделенными ' * '\n",
    "    return \" * \".join(factors)\n",
    "\n",
    "\n",
    "# Примеры\n",
    "print(decomp(12))  # Вывод: \"2^10 * 3^5 * 5^2 * 7 * 11\"\n",
    "print(decomp(22))  # Вывод: \"2^19 * 3^9 * 5^4 * 7^3 * 11^2 * 13 * 17 * 19\"\n"
   ]
  },
  {
   "cell_type": "code",
   "execution_count": null,
   "id": "8389fa9b",
   "metadata": {},
   "outputs": [],
   "source": []
  }
 ],
 "metadata": {
  "kernelspec": {
   "display_name": ".venv",
   "language": "python",
   "name": "python3"
  },
  "language_info": {
   "codemirror_mode": {
    "name": "ipython",
    "version": 3
   },
   "file_extension": ".py",
   "mimetype": "text/x-python",
   "name": "python",
   "nbconvert_exporter": "python",
   "pygments_lexer": "ipython3",
   "version": "3.13.2"
  }
 },
 "nbformat": 4,
 "nbformat_minor": 5
}
