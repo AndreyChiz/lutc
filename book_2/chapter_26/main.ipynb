{
 "cells": [
  {
   "cell_type": "code",
   "execution_count": null,
   "id": "e44be16e",
   "metadata": {},
   "outputs": [],
   "source": [
    "class C2:\n",
    "    x = 1\n",
    "    z = 2\n",
    "\n",
    "class C3:\n",
    "    w = 3\n",
    "    z = 4\n",
    "\n",
    "class C1(C2 ,C3):\n",
    "    x = 5\n",
    "    y = 6\n",
    "\n",
    "    def set_name(self, who):\n",
    "        self.name = who"
   ]
  },
  {
   "cell_type": "code",
   "execution_count": 5,
   "id": "d7947a10",
   "metadata": {},
   "outputs": [
    {
     "name": "stdout",
     "output_type": "stream",
     "text": [
      "5\n",
      "2\n",
      "hren\n"
     ]
    }
   ],
   "source": [
    "I1 = C1()\n",
    "print(I1.x)\n",
    "print(I1.z)\n",
    "I1.set_name('hren')\n",
    "print(I1.name)"
   ]
  },
  {
   "cell_type": "code",
   "execution_count": null,
   "id": "634f86c6",
   "metadata": {},
   "outputs": [
    {
     "name": "stdout",
     "output_type": "stream",
     "text": [
      "базовая зарплата\n",
      "зарплата инженера\n",
      "базовая зарплата\n",
      "базовая зарплата\n",
      "зарплата инженера\n"
     ]
    }
   ],
   "source": [
    "# Полиморфизм и классы\n",
    "\n",
    "class Employee:\n",
    "    def compute_selary(self): \n",
    "        print('базовая зарплата')\n",
    "    def give_raise(self):...\n",
    "    def promote(self):...\n",
    "    def retire(self):...\n",
    "\n",
    "class Enginear(Employee):\n",
    "    def compute_selary(self):\n",
    "        print('зарплата инженера')\n",
    "\n",
    "bob = Employee()\n",
    "sue = Employee()\n",
    "tom = Enginear()\n",
    "\n",
    "bob.compute_selary() # метод класса Employee\n",
    "tom.compute_selary() # перегруженный классом Enginear метод\n"
   ]
  },
  {
   "cell_type": "code",
   "execution_count": 11,
   "id": "13a815eb",
   "metadata": {},
   "outputs": [
    {
     "name": "stdout",
     "output_type": "stream",
     "text": [
      "базовая зарплата\n",
      "базовая зарплата\n",
      "зарплата инженера\n"
     ]
    }
   ],
   "source": [
    "company = [bob, sue, tom]\n",
    "for emp in company:\n",
    "    emp.compute_selary()\n"
   ]
  }
 ],
 "metadata": {
  "kernelspec": {
   "display_name": ".venv",
   "language": "python",
   "name": "python3"
  },
  "language_info": {
   "codemirror_mode": {
    "name": "ipython",
    "version": 3
   },
   "file_extension": ".py",
   "mimetype": "text/x-python",
   "name": "python",
   "nbconvert_exporter": "python",
   "pygments_lexer": "ipython3",
   "version": "3.13.3"
  }
 },
 "nbformat": 4,
 "nbformat_minor": 5
}
