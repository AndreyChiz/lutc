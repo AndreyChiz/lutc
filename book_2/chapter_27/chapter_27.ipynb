{
 "cells": [
  {
   "cell_type": "code",
   "execution_count": 11,
   "id": "62996028",
   "metadata": {},
   "outputs": [],
   "source": [
    "class FirstClass:\n",
    "    some = '\"какой то атрибут класса\"'\n",
    "    def set_data(self, value):\n",
    "        self.data = value\n",
    "\n",
    "    def display(self):\n",
    "        print(self.data)"
   ]
  },
  {
   "cell_type": "code",
   "execution_count": 13,
   "id": "fe32514e",
   "metadata": {},
   "outputs": [
    {
     "name": "stdout",
     "output_type": "stream",
     "text": [
      "127435721361680\n",
      "127435755616288\n",
      "127435721282304 общий атрибут класса some\n",
      "127435721282304 общий атрибут класса some\n"
     ]
    }
   ],
   "source": [
    "x = FirstClass()\n",
    "y = FirstClass()\n",
    "print(id(x))\n",
    "print(id(y))\n",
    "print(f'{id(x.some)} общий атрибут класса some')\n",
    "print(f'{id(y.some)} общий атрибут класса some')"
   ]
  },
  {
   "cell_type": "code",
   "execution_count": 14,
   "id": "5610eee0",
   "metadata": {},
   "outputs": [],
   "source": [
    "x.set_data('king Artur')\n",
    "y.set_data(3.14)"
   ]
  },
  {
   "cell_type": "code",
   "execution_count": 15,
   "id": "9f2039d3",
   "metadata": {},
   "outputs": [
    {
     "name": "stdout",
     "output_type": "stream",
     "text": [
      "king Artur\n"
     ]
    }
   ],
   "source": [
    "x.display()"
   ]
  },
  {
   "cell_type": "code",
   "execution_count": 18,
   "id": "ea68e031",
   "metadata": {},
   "outputs": [
    {
     "name": "stdout",
     "output_type": "stream",
     "text": [
      "Выполняется FirstClass.display(y)\n",
      "3.14\n",
      "3.14\n"
     ]
    }
   ],
   "source": [
    "print('Выполняется FirstClass.display(y)')\n",
    "y.display()\n",
    "FirstClass.display(y)"
   ]
  },
  {
   "cell_type": "code",
   "execution_count": 19,
   "id": "9ec6c6a8",
   "metadata": {},
   "outputs": [
    {
     "name": "stdout",
     "output_type": "stream",
     "text": [
      "теперь другое значение\n"
     ]
    }
   ],
   "source": [
    "y.data = 'теперь другое значение'\n",
    "y.display()"
   ]
  },
  {
   "cell_type": "code",
   "execution_count": null,
   "id": "7712a01d",
   "metadata": {},
   "outputs": [
    {
     "name": "stdout",
     "output_type": "stream",
     "text": [
      "spm\n"
     ]
    }
   ],
   "source": [
    "x.anothername = 'spm' # Нежелательно создавать атрибут которым не могут пользоваться методы класса\n",
    "print(x.anothername)"
   ]
  },
  {
   "cell_type": "code",
   "execution_count": 23,
   "id": "fc785925",
   "metadata": {},
   "outputs": [],
   "source": [
    "# наследование и пререопределение атрибутов\n",
    "\n",
    "class SecondClass(FirstClass): # унаследовались от FirstClass: все методы\n",
    "    def display(self): # переопределили тоько этот метод\n",
    "        print(f'Current value = {self.data}')\n",
    "        "
   ]
  },
  {
   "cell_type": "code",
   "execution_count": null,
   "id": "c1319770",
   "metadata": {},
   "outputs": [
    {
     "name": "stdout",
     "output_type": "stream",
     "text": [
      "Current value = Данные_в_перегруженном классе\n"
     ]
    }
   ],
   "source": [
    "# Использование перегруженных методов\n",
    "z = SecondClass()\n",
    "z.set_data('Данные_в_перегруженном классе') # метод класса FirstClass\n",
    "z.display()# Перегруженный SecondClass'ом метод\n",
    "\n",
    "# z.__delattr__('data') #удаление атрибута\n",
    "# del z.data\n",
    "# z.display()\n"
   ]
  },
  {
   "cell_type": "code",
   "execution_count": 32,
   "id": "c9eff0af",
   "metadata": {},
   "outputs": [
    {
     "name": "stdout",
     "output_type": "stream",
     "text": [
      "Current value = abc\n",
      "[ThirdClass: abc]\n",
      "Current value = abcxyz\n",
      "[ThirdClass: abcabcabc]\n"
     ]
    }
   ],
   "source": [
    "class ThirdClass(SecondClass):\n",
    "    def __init__(self, value):\n",
    "        self.data = value\n",
    "\n",
    "    def __add__(self, other):\n",
    "        return ThirdClass(self.data + other)\n",
    "    \n",
    "    def __str__(self):\n",
    "        return '[ThirdClass: {}]'.format(self.data)\n",
    "    \n",
    "    def mul(self, other):\n",
    "        self.data *= other\n",
    "\n",
    "a = ThirdClass('abc')\n",
    "a.display()\n",
    "\n",
    "print(a)\n",
    "\n",
    "b = a+'xyz'\n",
    "b.display()\n",
    "\n",
    "a.mul(3)\n",
    "print(a)\n"
   ]
  },
  {
   "cell_type": "code",
   "execution_count": 35,
   "id": "e035d477",
   "metadata": {},
   "outputs": [
    {
     "name": "stdout",
     "output_type": "stream",
     "text": [
      "[ThirdClass: abcabcabc]\n",
      "('__module__', '__main__')/n('__firstlineno__', 1)/n('__init__', <function ThirdClass.__init__ at 0x73e6f216ba60>)/n('__add__', <function ThirdClass.__add__ at 0x73e6f1081ee0>)/n('__str__', <function ThirdClass.__str__ at 0x73e6f10831a0>)/n('mul', <function ThirdClass.mul at 0x73e6f1080c20>)/n('__static_attributes__', ('data',))/n('__doc__', None)\n"
     ]
    }
   ],
   "source": [
    "print(a)\n",
    "print(*ThirdClass.__dict__.items(), sep='/n')"
   ]
  }
 ],
 "metadata": {
  "kernelspec": {
   "display_name": ".venv",
   "language": "python",
   "name": "python3"
  },
  "language_info": {
   "codemirror_mode": {
    "name": "ipython",
    "version": 3
   },
   "file_extension": ".py",
   "mimetype": "text/x-python",
   "name": "python",
   "nbconvert_exporter": "python",
   "pygments_lexer": "ipython3",
   "version": "3.13.3"
  }
 },
 "nbformat": 4,
 "nbformat_minor": 5
}
