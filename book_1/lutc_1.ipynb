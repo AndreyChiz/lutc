{
 "cells": [
  {
   "cell_type": "code",
   "execution_count": 5,
   "id": "69745fe7",
   "metadata": {},
   "outputs": [
    {
     "name": "stdout",
     "output_type": "stream",
     "text": [
      "'>' not supported between instances of 'str' and 'int'\n",
      "True\n"
     ]
    }
   ],
   "source": [
    "# Сравнение элеентов\n",
    "x = ((1,2),(3,'a'))\n",
    "x1 = ((1, 2), (3, 5))\n",
    "y = ((1, 2), (3, 4))\n",
    "\n",
    "\n",
    "try:\n",
    "    print(x>y)\n",
    "except TypeError as e:\n",
    "    print(e)\n",
    "\n",
    "print(x1>y)"
   ]
  }
 ],
 "metadata": {
  "kernelspec": {
   "display_name": ".venv",
   "language": "python",
   "name": "python3"
  },
  "language_info": {
   "codemirror_mode": {
    "name": "ipython",
    "version": 3
   },
   "file_extension": ".py",
   "mimetype": "text/x-python",
   "name": "python",
   "nbconvert_exporter": "python",
   "pygments_lexer": "ipython3",
   "version": "3.13.2"
  }
 },
 "nbformat": 4,
 "nbformat_minor": 5
}
